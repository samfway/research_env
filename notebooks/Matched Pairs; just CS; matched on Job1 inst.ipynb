{
 "cells": [
  {
   "cell_type": "code",
   "execution_count": 5,
   "metadata": {
    "collapsed": false,
    "deletable": true,
    "editable": true
   },
   "outputs": [],
   "source": [
    "from research_env.misc.globals import *  # Project variables, paths to data, plotting utilities, etc.\n",
    "from faculty_hiring.parse import load    # For loading DBLP records (CS)"
   ]
  },
  {
   "cell_type": "code",
   "execution_count": 6,
   "metadata": {
    "collapsed": false,
    "deletable": true,
    "editable": true
   },
   "outputs": [],
   "source": [
    "load.load_all_publications(cs_faculty, DBLP_DIR)"
   ]
  },
  {
   "cell_type": "markdown",
   "metadata": {
    "deletable": true,
    "editable": true
   },
   "source": [
    "## Number of publications before and after"
   ]
  },
  {
   "cell_type": "code",
   "execution_count": 7,
   "metadata": {
    "collapsed": false,
    "deletable": true,
    "editable": true
   },
   "outputs": [],
   "source": [
    "Npre  = 5    # Within N1 years of first being hired.\n",
    "Npost = 5    # Within N2 years *after* being hired.\n",
    "\n",
    "for person in cs_faculty:\n",
    "    start_year = person.first_asst_job_year\n",
    "    career_length = 2012 - start_year\n",
    "        \n",
    "    person['pre_pubs'] = 0.\n",
    "    person['post_pubs'] = 0.\n",
    "    \n",
    "    if 'dblp_pubs' in person:\n",
    "        for pub in person['dblp_pubs']:\n",
    "            if pub['pub_type'] in ['inproceedings', 'article'] and pub['year'] is not None:\n",
    "                if pub['year'] <= start_year and pub['year'] >= start_year - Npre:\n",
    "                    person['pre_pubs'] += inflation_adjust(pub['year'])\n",
    "                elif pub['year'] > start_year and pub['year'] <= start_year + Npost:\n",
    "                    person['post_pubs'] += inflation_adjust(pub['year'])"
   ]
  },
  {
   "cell_type": "markdown",
   "metadata": {
    "deletable": true,
    "editable": true
   },
   "source": [
    "#### Profile individuals along the following axes:\n",
    "  * Placement year\n",
    "  * Placement rank \n",
    "  * ~~Productivity (pre-hire)~~\n",
    "  * ~~Postdoctoral training~~\n",
    "  * Gender (must be exact match)\n"
   ]
  },
  {
   "cell_type": "code",
   "execution_count": 8,
   "metadata": {
    "collapsed": false,
    "deletable": true,
    "editable": true
   },
   "outputs": [],
   "source": [
    "profiles = np.zeros((len(cs_faculty),3), dtype=np.float)\n",
    "available = np.zeros(len(cs_faculty), dtype=int)\n",
    "\n",
    "for i, person in enumerate(cs_faculty):\n",
    "    profiles[i,0] = person.first_asst_job_rank\n",
    "    profiles[i,1] = person.first_asst_job_year\n",
    "    profiles[i,2] = float(person.is_female)\n",
    "    \n",
    "num_profiles = len(profiles)"
   ]
  },
  {
   "cell_type": "markdown",
   "metadata": {
    "collapsed": true,
    "deletable": true,
    "editable": true
   },
   "source": [
    "## Maximum allowable caliper distances\n",
    "\n",
    "We want to pick caliper distances c such that there's a significant difference in the two formed groups. First, what do the distributions of distances look like?"
   ]
  },
  {
   "cell_type": "code",
   "execution_count": 9,
   "metadata": {
    "collapsed": false,
    "deletable": true,
    "editable": true
   },
   "outputs": [
    {
     "data": {
      "image/png": "[encoded data removed]",
      "text/plain": [
       "<matplotlib.figure.Figure at 0x11c039c50>"
      ]
     },
     "metadata": {},
     "output_type": "display_data"
    }
   ],
   "source": [
    "fig, axs = plt.subplots(1,2, figsize=(12, 4))\n",
    "\n",
    "labels = ['Rank Difference', 'Placement Year Difference']\n",
    "\n",
    "for a, ax in enumerate(axs):\n",
    "    dimension = a \n",
    "    distances = []\n",
    "    num_profiles = len(profiles)\n",
    "\n",
    "    for i in xrange(num_profiles):\n",
    "        for j in xrange(i+1, num_profiles):\n",
    "            distances.append(np.abs(profiles[i,dimension]-profiles[j,dimension]))\n",
    "\n",
    "    distances = np.array(distances)\n",
    "    min_dist = np.min(distances)\n",
    "    max_dist = np.max(distances)\n",
    "    rng_dist = np.linspace(min_dist, max_dist)\n",
    "    denom = float(len(distances))\n",
    "\n",
    "    curve = np.array([len(np.where(distances <= c)[0])/denom for c in rng_dist])\n",
    "    keep = np.min(np.where(curve >= 0.95)[0])\n",
    "\n",
    "    ax.plot(rng_dist[:keep], curve[:keep], color=ACCENT_COLOR_1, lw=LINE_WIDTH)\n",
    "    finalize(ax)\n",
    "\n",
    "    ax.set_ylabel('Fraction of possible matches')\n",
    "    ax.set_ylim(0,1)\n",
    "    ax.set_xlabel(labels[a])\n",
    "\n",
    "plt.show()"
   ]
  },
  {
   "cell_type": "markdown",
   "metadata": {
    "deletable": true,
    "editable": true
   },
   "source": [
    "#### For a set of specific caliper distances, how many matches can we make?"
   ]
  },
  {
   "cell_type": "code",
   "execution_count": 10,
   "metadata": {
    "collapsed": false,
    "deletable": true,
    "editable": true
   },
   "outputs": [
    {
     "name": "stdout",
     "output_type": "stream",
     "text": [
      "Can make N=20778 matches. (0.62% of all possible)\n"
     ]
    }
   ],
   "source": [
    "calipers = [5, 2, 0]  # Placement rank, Placement Year, Pre-hire pubs, Gender (0=Male)\n",
    "A = np.zeros((num_profiles, num_profiles), dtype=float)\n",
    "\n",
    "for i in xrange(num_profiles):\n",
    "    for j in xrange(i+1, num_profiles):\n",
    "        diff = np.abs(profiles[i]-profiles[j])\n",
    "        good = True\n",
    "        for c, caliper in enumerate(calipers):\n",
    "            if diff[c] > caliper:\n",
    "                good = False\n",
    "                break\n",
    "                \n",
    "        if good:\n",
    "            A[i,j] = 1\n",
    "print \"Can make N=%d matches. (%.2f%% of all possible)\" % (A.sum(), 100 * A.sum() / ((num_profiles*(num_profiles-1))/2))"
   ]
  },
  {
   "cell_type": "code",
   "execution_count": 11,
   "metadata": {
    "collapsed": false,
    "deletable": true,
    "editable": true
   },
   "outputs": [],
   "source": [
    "def draw_matches(adjacency_matrix):\n",
    "    matches = []\n",
    "    A = adjacency_matrix.copy()\n",
    "    \n",
    "    while A.sum() > 0:\n",
    "        rows, cols = np.where(A > 0)\n",
    "        idx = np.random.choice(xrange(len(rows)))\n",
    "        a, b = rows[idx], cols[idx]\n",
    "        matches.append((a, b))\n",
    "        A[a,:] = 0\n",
    "        A[:,a] = 0\n",
    "        A[b,:] = 0\n",
    "        A[:,b] = 0\n",
    "    \n",
    "    return matches"
   ]
  },
  {
   "cell_type": "code",
   "execution_count": 12,
   "metadata": {
    "collapsed": false,
    "deletable": true,
    "editable": true
   },
   "outputs": [
    {
     "name": "stdout",
     "output_type": "stream",
     "text": [
      "Made 1202 matches.\n"
     ]
    }
   ],
   "source": [
    "matches = draw_matches(A)\n",
    "num_matches = float(len(matches))\n",
    "print 'Made %d matches.' % (num_matches)"
   ]
  },
  {
   "cell_type": "code",
   "execution_count": 19,
   "metadata": {
    "collapsed": false,
    "deletable": true,
    "editable": true
   },
   "outputs": [
    {
     "name": "stdout",
     "output_type": "stream",
     "text": [
      "fraction: 0.484693877551\n",
      "pvalue: 0.859695967341\n"
     ]
    }
   ],
   "source": [
    "count = 0.\n",
    "total = 0.\n",
    "diffs = []\n",
    "\n",
    "for a, b in matches: \n",
    "    person_a = cs_faculty[a]\n",
    "    person_b = cs_faculty[b]\n",
    "    higher = np.argmin([cs_inst[person_a.phd_location]['pi'], cs_inst[person_b.phd_location]['pi']])\n",
    "    prolif = np.argmax([person_a.post_pubs, person_b.post_pubs])\n",
    "    \n",
    "    if person_a.phd_location == person_b.phd_location:\n",
    "        continue\n",
    "    \n",
    "    if higher == 0: # Person A placed higher\n",
    "        diffs.append(person_a.post_pubs - person_b.post_pubs)\n",
    "    else:\n",
    "        diffs.append(person_b.post_pubs - person_a.post_pubs)\n",
    "    \n",
    "    if higher == prolif:\n",
    "        count += 1\n",
    "    total += 1\n",
    "    \n",
    "print 'fraction:', count/total\n",
    "print 'pvalue:', sp.stats.binom_test(count, total, 0.5, alternative='greater')"
   ]
  },
  {
   "cell_type": "markdown",
   "metadata": {
    "deletable": true,
    "editable": true
   },
   "source": [
    "*** Sanity check #1 *** – how often is it the case that the person who started out more productive ended up being more productive in the long run?"
   ]
  },
  {
   "cell_type": "code",
   "execution_count": 20,
   "metadata": {
    "collapsed": false,
    "deletable": true,
    "editable": true
   },
   "outputs": [
    {
     "name": "stdout",
     "output_type": "stream",
     "text": [
      "fraction: 0.690860215054\n",
      "pvalue: 2.78906618529e-38\n",
      "N=1116 (92.8% of total)\n"
     ]
    }
   ],
   "source": [
    "count = 0.\n",
    "total = 0.\n",
    "diffs = []\n",
    "\n",
    "for a, b in matches: \n",
    "    person_a = cs_faculty[a]\n",
    "    person_b = cs_faculty[b]\n",
    "    \n",
    "    # Skip if they have exactly the same number of publications before or after\n",
    "    if person_a.pre_pubs == person_b.pre_pubs or person_a.post_pubs == person_b.post_pubs:\n",
    "        continue\n",
    "    \n",
    "    higher = np.argmax([person_a.pre_pubs, person_b.pre_pubs])\n",
    "    prolif = np.argmax([person_a.post_pubs, person_b.post_pubs])\n",
    "    \n",
    "    if higher == 0: # Person A placed higher\n",
    "        diffs.append(person_a.post_pubs - person_b.post_pubs)\n",
    "    else:\n",
    "        diffs.append(person_b.post_pubs - person_a.post_pubs)\n",
    "    \n",
    "    if higher == prolif:\n",
    "        count += 1\n",
    "    total += 1\n",
    "    \n",
    "print 'fraction:', count/total\n",
    "print 'pvalue:', sp.stats.binom_test(count, total, 0.5, alternative='greater')\n",
    "print 'N=%d (%.1f%% of total)' % (int(total), 100.*total/num_matches)"
   ]
  },
  {
   "cell_type": "markdown",
   "metadata": {
    "deletable": true,
    "editable": true
   },
   "source": [
    "*** Sanity check #2 *** – how often is it the case that the person who trained at the more prestigious location also went on to become more productive?"
   ]
  },
  {
   "cell_type": "code",
   "execution_count": 21,
   "metadata": {
    "collapsed": false,
    "deletable": true,
    "editable": true
   },
   "outputs": [
    {
     "name": "stdout",
     "output_type": "stream",
     "text": [
      "fraction: 0.482638888889\n",
      "pvalue: 0.886479087218\n",
      "N=1152 (95.8% of total)\n"
     ]
    }
   ],
   "source": [
    "count = 0.\n",
    "total = 0.\n",
    "diffs = []\n",
    "\n",
    "for a, b in matches: \n",
    "    person_a = cs_faculty[a]\n",
    "    person_b = cs_faculty[b]\n",
    "    \n",
    "    # Skip if they have exactly the same rank, num pubs\n",
    "    if person_a.phd_rank == person_b.phd_rank or person_a.post_pubs == person_b.post_pubs:\n",
    "        continue\n",
    "    \n",
    "    higher = np.argmin([person_a.phd_rank, person_b.phd_rank])\n",
    "    prolif = np.argmax([person_a.post_pubs, person_b.post_pubs])\n",
    "    \n",
    "    if higher == 0: # Person A placed higher\n",
    "        diffs.append(person_a.post_pubs - person_b.post_pubs)\n",
    "    else:\n",
    "        diffs.append(person_b.post_pubs - person_a.post_pubs)\n",
    "    \n",
    "    if higher == prolif:\n",
    "        count += 1\n",
    "    total += 1\n",
    "    \n",
    "print 'fraction:', count/total\n",
    "print 'pvalue:', sp.stats.binom_test(count, total, 0.5, alternative='greater')\n",
    "print 'N=%d (%.1f%% of total)' % (int(total), 100.*total/num_matches)"
   ]
  },
  {
   "cell_type": "markdown",
   "metadata": {
    "deletable": true,
    "editable": true
   },
   "source": [
    "*** Sanity check #3 *** – How often is it the case that the person who placed later was more productive?"
   ]
  },
  {
   "cell_type": "code",
   "execution_count": 22,
   "metadata": {
    "collapsed": false,
    "deletable": true,
    "editable": true
   },
   "outputs": [
    {
     "name": "stdout",
     "output_type": "stream",
     "text": [
      "fraction: 0.508565310493\n",
      "pvalue: 0.623580866829\n",
      "N=934 (77.7% of total)\n"
     ]
    }
   ],
   "source": [
    "count = 0.\n",
    "total = 0.\n",
    "diffs = []\n",
    "\n",
    "for a, b in matches: \n",
    "    person_a = cs_faculty[a]\n",
    "    person_b = cs_faculty[b]\n",
    "    \n",
    "    # Skip if they have exactly the same start year, num pubs\n",
    "    if person_a.first_asst_job_year == person_b.first_asst_job_year or person_a.post_pubs == person_b.post_pubs:\n",
    "        continue\n",
    "    \n",
    "    higher = np.argmax([person_a.first_asst_job_year, person_b.first_asst_job_year])\n",
    "    prolif = np.argmax([person_a.post_pubs, person_b.post_pubs])\n",
    "    \n",
    "    if higher == 0: # Person A placed higher\n",
    "        diffs.append(person_a.post_pubs - person_b.post_pubs)\n",
    "    else:\n",
    "        diffs.append(person_b.post_pubs - person_a.post_pubs)\n",
    "    \n",
    "    if higher == prolif:\n",
    "        count += 1\n",
    "    total += 1\n",
    "    \n",
    "print 'fraction:', count/total\n",
    "print 'pvalue:', sp.stats.binom_test(count, total, 0.5, alternative='two-sided')\n",
    "print 'N=%d (%.1f%% of total)' % (int(total), 100.*total/num_matches)"
   ]
  }
 ],
 "metadata": {
  "kernelspec": {
   "display_name": "Python 2",
   "language": "python",
   "name": "python2"
  },
  "language_info": {
   "codemirror_mode": {
    "name": "ipython",
    "version": 2
   },
   "file_extension": ".py",
   "mimetype": "text/x-python",
   "name": "python",
   "nbconvert_exporter": "python",
   "pygments_lexer": "ipython2",
   "version": "2.7.10"
  }
 },
 "nbformat": 4,
 "nbformat_minor": 0
}
