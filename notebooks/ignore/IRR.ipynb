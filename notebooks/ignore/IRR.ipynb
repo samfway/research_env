{
 "cells": [
  {
   "cell_type": "code",
   "execution_count": 26,
   "metadata": {
    "collapsed": true
   },
   "outputs": [],
   "source": [
    "import rpy2.robjects as robjects\n",
    "from rpy2.robjects.packages import importr\n",
    "import numpy as np\n",
    "import rpy2.robjects.numpy2ri\n",
    "rpy2.robjects.numpy2ri.activate()\n",
    "\n",
    "# R package for interrater reliability. \n",
    "# https://cran.r-project.org/web/packages/irr/irr.pdf\n",
    "irr = importr('irr')"
   ]
  },
  {
   "cell_type": "code",
   "execution_count": 37,
   "metadata": {
    "collapsed": false
   },
   "outputs": [
    {
     "data": {
      "text/plain": [
       "R object with classes: ('matrix',) mapped to:\n",
       "<Matrix - Python:0x110615dd0 / R:0x7fe1d4f37e00>\n",
       "[27.578440, 43.023102, 80.210196, ..., 88.307045, 19.183266, 82.846842]"
      ]
     },
     "execution_count": 37,
     "metadata": {},
     "output_type": "execute_result"
    }
   ],
   "source": [
    "N, M = 5, 100  # Raters, Subjects\n",
    "x = 100 * np.random.random(M)\n",
    "X = np.tile(x, (N,1)) + np.random.random(size=(N,M))*20\n",
    "X = X.transpose()\n",
    "\n",
    "nr, nc = X.shape\n",
    "rX = robjects.r.matrix(X, nrow=nr, ncol=nc)\n",
    "robjects.r.assign(\"X\", rX)"
   ]
  },
  {
   "cell_type": "code",
   "execution_count": 38,
   "metadata": {
    "collapsed": false
   },
   "outputs": [
    {
     "name": "stdout",
     "output_type": "stream",
     "text": [
      " Single Score Intraclass Correlation\n",
      "\n",
      "   Model: oneway \n",
      "   Type : consistency \n",
      "\n",
      "   Subjects = 100 \n",
      "     Raters = 5 \n",
      "     ICC(1) = 0.961\n",
      "\n",
      " F-Test, H0: r0 = 0 ; H1: r0 > 0 \n",
      "  F(99,400) = 123 , p = 1.17e-248 \n",
      "\n",
      " 95%-Confidence Interval for ICC Population Values:\n",
      "  0.947 < ICC < 0.971\n",
      "\n"
     ]
    }
   ],
   "source": [
    "print robjects.r('irr::icc(X)')"
   ]
  }
 ],
 "metadata": {
  "kernelspec": {
   "display_name": "Python 2",
   "language": "python",
   "name": "python2"
  },
  "language_info": {
   "codemirror_mode": {
    "name": "ipython",
    "version": 2
   },
   "file_extension": ".py",
   "mimetype": "text/x-python",
   "name": "python",
   "nbconvert_exporter": "python",
   "pygments_lexer": "ipython2",
   "version": "2.7.10"
  }
 },
 "nbformat": 4,
 "nbformat_minor": 2
}
